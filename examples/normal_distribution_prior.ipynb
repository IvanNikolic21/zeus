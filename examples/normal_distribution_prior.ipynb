{
 "cells": [
  {
   "cell_type": "code",
   "execution_count": null,
   "metadata": {},
   "outputs": [],
   "source": [
    "import sys\n",
    "sys.path.append(\"./../\")\n",
    "import matplotlib.pyplot as plt\n",
    "from sklearn.datasets import make_spd_matrix\n",
    "import numpy as np\n",
    "import zeus\n",
    "print('zeus version:', zeus.__version__)"
   ]
  },
  {
   "cell_type": "code",
   "execution_count": 9,
   "metadata": {},
   "outputs": [
    {
     "data": {
      "image/png": "[encoded data removed]",
      "text/plain": [
       "<Figure size 432x288 with 2 Axes>"
      ]
     },
     "metadata": {
      "needs_background": "light"
     },
     "output_type": "display_data"
    }
   ],
   "source": [
    "ndim = 25\n",
    "nwalkers = 2 * ndim\n",
    "nsteps= 20000\n",
    "\n",
    "#C = make_spd_matrix(ndim)\n",
    "C = np.identity(ndim)\n",
    "C[C==0] = 0.95\n",
    "plt.imshow(C)\n",
    "plt.colorbar()\n",
    "\n",
    "icov = np.linalg.inv(C)\n",
    "\n",
    "#mu = np.random.rand(ndim) * 10.0\n",
    "mu  = np.zeros(ndim)\n",
    "\n",
    "def logp(x, mu, icov):\n",
    "    if np.all(x>-10) and np.all(x<10):\n",
    "        return -0.5 * np.dot(np.dot((x-mu).T,icov),(x-mu))\n",
    "    else:\n",
    "        return -np.inf\n",
    "\n",
    "#start = np.random.rand(ndim)\n",
    "start = mu + 1.0 * np.random.randn(nwalkers,ndim)"
   ]
  },
  {
   "cell_type": "code",
   "execution_count": null,
   "metadata": {},
   "outputs": [],
   "source": [
    "from multiprocessing import Pool\n",
    "\n",
    "with Pool() as pool:\n",
    "    sampler = zeus.sampler(logp, nwalkers, ndim, args=[mu, icov], pool=pool)\n",
    "    sampler.run(start, nsteps)"
   ]
  },
  {
   "cell_type": "code",
   "execution_count": 10,
   "metadata": {},
   "outputs": [
    {
     "name": "stderr",
     "output_type": "stream",
     "text": [
      "Initialising ensemble of 50 walkers...\n",
      "Sampling progress : 100%|██████████| 20000/20000 [01:37<00:00, 204.47it/s]\n"
     ]
    }
   ],
   "source": [
    "#sampler = zeus.sampler(logp, nwalkers, ndim, jump=0.0)\n",
    "sampler = zeus.sampler(logp, nwalkers, ndim, args=[mu, icov], jump=0.0, mu=1.0, tune=True, walk=False)\n",
    "sampler.run(start, nsteps)"
   ]
  },
  {
   "cell_type": "code",
   "execution_count": null,
   "metadata": {
    "scrolled": false
   },
   "outputs": [],
   "source": [
    "plt.figure(figsize=(16,1.5*ndim))\n",
    "for n in range(1):\n",
    "    plt.subplot2grid((ndim, 1), (n, 0))\n",
    "    plt.plot(np.arange(nsteps),sampler.chain[:,:,n].T,alpha=0.3)\n",
    "    plt.axhline(y=mu[n])\n",
    "plt.tight_layout()\n",
    "plt.show()\n",
    "\n",
    "trace = sampler.flatten(burn=int(nsteps/2))\n",
    "plt.scatter(trace[:,0],trace[:,1], alpha=0.2)\n",
    "plt.show()\n",
    "\n",
    "print('MCMC mean:', np.mean(trace, axis=0))\n",
    "print('TRUE mean:', mu)\n",
    "print('MCMC std:', np.std(trace, axis=0))\n",
    "print('TRUE std:', np.sqrt(np.diag(C)))\n",
    "\n",
    "sampler.summary"
   ]
  },
  {
   "cell_type": "code",
   "execution_count": null,
   "metadata": {
    "scrolled": false
   },
   "outputs": [],
   "source": [
    "sampler.efficiency"
   ]
  },
  {
   "cell_type": "code",
   "execution_count": null,
   "metadata": {},
   "outputs": [],
   "source": [
    "sampler.mu"
   ]
  },
  {
   "cell_type": "code",
   "execution_count": null,
   "metadata": {},
   "outputs": [],
   "source": [
    "plt.figure(figsize=(16,5))\n",
    "plt.plot(np.arange(nsteps),sampler.neval/nwalkers)\n",
    "plt.show()"
   ]
  },
  {
   "cell_type": "code",
   "execution_count": null,
   "metadata": {},
   "outputs": [],
   "source": [
    "plt.figure(figsize=(16,5))\n",
    "plt.plot(np.arange(nsteps),sampler.neval)\n",
    "plt.show()"
   ]
  },
  {
   "cell_type": "code",
   "execution_count": null,
   "metadata": {},
   "outputs": [],
   "source": [
    "mean_mu = np.mean(sampler.neval[int(nsteps/2):]/nwalkers)\n",
    "std_mu = np.std(sampler.neval[int(nsteps/2):]/nwalkers)\n",
    "\n",
    "plt.hist(sampler.neval/nwalkers)\n",
    "plt.axvline(x=mean_mu, color='orange')\n",
    "plt.axvline(x=mean_mu - std_mu, color='red')\n",
    "plt.show()\n",
    "\n",
    "print(mean_mu)\n",
    "print(mean_mu - std_mu)"
   ]
  },
  {
   "cell_type": "code",
   "execution_count": null,
   "metadata": {},
   "outputs": [],
   "source": [
    "np.mean(sampler.neval[-10:]/nwalkers)"
   ]
  },
  {
   "cell_type": "code",
   "execution_count": 11,
   "metadata": {},
   "outputs": [
    {
     "data": {
      "image/png": "[encoded data removed]",
      "text/plain": [
       "<Figure size 432x288 with 1 Axes>"
      ]
     },
     "metadata": {
      "needs_background": "light"
     },
     "output_type": "display_data"
    }
   ],
   "source": [
    "plt.plot(np.arange(len(sampler.mus)),sampler.mus)\n",
    "plt.show()"
   ]
  },
  {
   "cell_type": "code",
   "execution_count": 12,
   "metadata": {},
   "outputs": [
    {
     "data": {
      "text/plain": [
       "[0.7762237762237763,\n",
       " 0.7155812937062938,\n",
       " 0.6572746697746699,\n",
       " 0.606715079792003,\n",
       " 0.5511381259179263,\n",
       " 0.5292675653656277,\n",
       " 0.5380886914550548]"
      ]
     },
     "execution_count": 12,
     "metadata": {},
     "output_type": "execute_result"
    }
   ],
   "source": [
    "sampler.mus"
   ]
  },
  {
   "cell_type": "code",
   "execution_count": 13,
   "metadata": {},
   "outputs": [
    {
     "name": "stdout",
     "output_type": "stream",
     "text": [
      "[[1.01064285 0.95931252 0.96163069 0.95777573 0.95753669 0.95662268\n",
      "  0.9582813  0.9586013  0.95674516 0.95594395 0.95750136 0.95727009\n",
      "  0.96056492 0.9549343  0.95900873 0.95490261 0.95654115 0.95771712\n",
      "  0.95638402 0.95662051 0.95786851 0.95718918 0.95724809 0.95973837\n",
      "  0.95664963]\n",
      " [0.95931252 1.00761253 0.95847306 0.95602675 0.95578212 0.95427376\n",
      "  0.95653868 0.9564762  0.95511756 0.95450969 0.95481854 0.95621427\n",
      "  0.95916336 0.95239075 0.95749836 0.95385212 0.95512142 0.9561965\n",
      "  0.95459637 0.95545573 0.95617512 0.95541107 0.95627191 0.95771508\n",
      "  0.95480768]\n",
      " [0.96163069 0.95847306 1.0102885  0.95835183 0.9576312  0.95704435\n",
      "  0.95864299 0.9582811  0.95663748 0.95564772 0.95663286 0.95797463\n",
      "  0.95954949 0.95357205 0.95985119 0.9560245  0.95690076 0.9574507\n",
      "  0.9559324  0.95728009 0.95786402 0.95670006 0.95731716 0.95915712\n",
      "  0.95618108]\n",
      " [0.95777573 0.95602675 0.95835183 1.00569012 0.95501031 0.95376216\n",
      "  0.95546742 0.95645371 0.95424368 0.95403659 0.95480055 0.95550568\n",
      "  0.95758755 0.95203978 0.95738426 0.95306698 0.95374255 0.95554736\n",
      "  0.95397651 0.95528826 0.95573317 0.95486128 0.95539462 0.95619884\n",
      "  0.9541999 ]\n",
      " [0.95753669 0.95578212 0.9576312  0.95501031 1.00418405 0.95271282\n",
      "  0.95426399 0.95556459 0.95308332 0.95246452 0.95442703 0.95510485\n",
      "  0.95736575 0.95164469 0.9569627  0.95261758 0.95369815 0.95509471\n",
      "  0.95375247 0.95511429 0.95473149 0.9540662  0.95462261 0.95669073\n",
      "  0.95323949]\n",
      " [0.95662268 0.95427376 0.95704435 0.95376216 0.95271282 1.00137055\n",
      "  0.95294832 0.9548166  0.95234268 0.95107101 0.95278624 0.95333293\n",
      "  0.95620994 0.95041843 0.95540724 0.95099848 0.95231395 0.95330604\n",
      "  0.95151159 0.95268332 0.95296555 0.95183193 0.95280192 0.95487176\n",
      "  0.951413  ]\n",
      " [0.9582813  0.95653868 0.95864299 0.95546742 0.95426399 0.95294832\n",
      "  1.00457255 0.95582085 0.95385351 0.95280786 0.95389337 0.95453017\n",
      "  0.95719861 0.95081469 0.95656577 0.95267717 0.95381254 0.95542934\n",
      "  0.95336896 0.95508548 0.95430894 0.95354343 0.95435187 0.9565152\n",
      "  0.95312493]\n",
      " [0.9586013  0.9564762  0.9582811  0.95645371 0.95556459 0.9548166\n",
      "  0.95582085 1.00666331 0.95475328 0.95301173 0.95487029 0.9556495\n",
      "  0.95817033 0.95209209 0.95705606 0.95305844 0.9542113  0.95591418\n",
      "  0.95394972 0.95570664 0.95567117 0.95477248 0.95596595 0.95761077\n",
      "  0.95402899]\n",
      " [0.95674516 0.95511756 0.95663748 0.95424368 0.95308332 0.95234268\n",
      "  0.95385351 0.95475328 1.00182628 0.95084316 0.95232451 0.95402862\n",
      "  0.95567135 0.94899644 0.95515069 0.95083075 0.95261884 0.95389189\n",
      "  0.95155592 0.9533121  0.95363538 0.9521138  0.95282079 0.95506412\n",
      "  0.95149696]\n",
      " [0.95594395 0.95450969 0.95564772 0.95403659 0.95246452 0.95107101\n",
      "  0.95280786 0.95301173 0.95084316 1.00044667 0.95332803 0.95312815\n",
      "  0.95576623 0.94920077 0.95443973 0.95040124 0.9515016  0.95279864\n",
      "  0.95076846 0.95236942 0.95307082 0.95222806 0.95200194 0.95409278\n",
      "  0.95111365]\n",
      " [0.95750136 0.95481854 0.95663286 0.95480055 0.95442703 0.95278624\n",
      "  0.95389337 0.95487029 0.95232451 0.95332803 1.0021679  0.95449348\n",
      "  0.95618646 0.94993686 0.95545514 0.95161054 0.95238388 0.95472852\n",
      "  0.95219727 0.95295835 0.95408622 0.95315988 0.95381544 0.95617043\n",
      "  0.9515164 ]\n",
      " [0.95727009 0.95621427 0.95797463 0.95550568 0.95510485 0.95333293\n",
      "  0.95453017 0.9556495  0.95402862 0.95312815 0.95449348 1.00411462\n",
      "  0.9569752  0.9505266  0.95678386 0.95304328 0.95425373 0.95509006\n",
      "  0.95257554 0.95402765 0.95466728 0.95405873 0.95478835 0.95710377\n",
      "  0.95294291]\n",
      " [0.96056492 0.95916336 0.95954949 0.95758755 0.95736575 0.95620994\n",
      "  0.95719861 0.95817033 0.95567135 0.95576623 0.95618646 0.9569752\n",
      "  1.00842132 0.95310368 0.95862378 0.9543193  0.95564536 0.95669198\n",
      "  0.955661   0.95665539 0.95634588 0.95676627 0.95667445 0.9589803\n",
      "  0.95490141]\n",
      " [0.9549343  0.95239075 0.95357205 0.95203978 0.95164469 0.95041843\n",
      "  0.95081469 0.95209209 0.94899644 0.94920077 0.94993686 0.9505266\n",
      "  0.95310368 0.99761297 0.95235743 0.94848862 0.94946108 0.95152132\n",
      "  0.94946315 0.95119886 0.95090356 0.9498713  0.95073746 0.95266081\n",
      "  0.94885831]\n",
      " [0.95900873 0.95749836 0.95985119 0.95738426 0.9569627  0.95540724\n",
      "  0.95656577 0.95705606 0.95515069 0.95443973 0.95545514 0.95678386\n",
      "  0.95862378 0.95235743 1.00755679 0.95433383 0.95513995 0.95618395\n",
      "  0.95557295 0.95607937 0.95613111 0.95593984 0.95602403 0.95740887\n",
      "  0.95464955]\n",
      " [0.95490261 0.95385212 0.9560245  0.95306698 0.95261758 0.95099848\n",
      "  0.95267717 0.95305844 0.95083075 0.95040124 0.95161054 0.95304328\n",
      "  0.9543193  0.94848862 0.95433383 0.99875407 0.95152006 0.95247885\n",
      "  0.95085003 0.95165578 0.95277674 0.9519452  0.95217014 0.95459855\n",
      "  0.95075115]\n",
      " [0.95654115 0.95512142 0.95690076 0.95374255 0.95369815 0.95231395\n",
      "  0.95381254 0.9542113  0.95261884 0.9515016  0.95238388 0.95425373\n",
      "  0.95564536 0.94946108 0.95513995 0.95152006 1.00146807 0.95332187\n",
      "  0.95142013 0.95291107 0.95287306 0.95147415 0.95326809 0.95534808\n",
      "  0.95156436]\n",
      " [0.95771712 0.9561965  0.9574507  0.95554736 0.95509471 0.95330604\n",
      "  0.95542934 0.95591418 0.95389189 0.95279864 0.95472852 0.95509006\n",
      "  0.95669198 0.95152132 0.95618395 0.95247885 0.95332187 1.00429875\n",
      "  0.95309872 0.95448232 0.95479881 0.9540247  0.95404812 0.95684834\n",
      "  0.95255361]\n",
      " [0.95638402 0.95459637 0.9559324  0.95397651 0.95375247 0.95151159\n",
      "  0.95336896 0.95394972 0.95155592 0.95076846 0.95219727 0.95257554\n",
      "  0.955661   0.94946315 0.95557295 0.95085003 0.95142013 0.95309872\n",
      "  1.00125223 0.95290945 0.95199952 0.95230949 0.95290146 0.95437021\n",
      "  0.95103608]\n",
      " [0.95662051 0.95545573 0.95728009 0.95528826 0.95511429 0.95268332\n",
      "  0.95508548 0.95570664 0.9533121  0.95236942 0.95295835 0.95402765\n",
      "  0.95665539 0.95119886 0.95607937 0.95165578 0.95291107 0.95448232\n",
      "  0.95290945 1.00390467 0.95395862 0.95396364 0.95414394 0.95632342\n",
      "  0.95257893]\n",
      " [0.95786851 0.95617512 0.95786402 0.95573317 0.95473149 0.95296555\n",
      "  0.95430894 0.95567117 0.95363538 0.95307082 0.95408622 0.95466728\n",
      "  0.95634588 0.95090356 0.95613111 0.95277674 0.95287306 0.95479881\n",
      "  0.95199952 0.95395862 1.00405931 0.95329968 0.95408139 0.95669999\n",
      "  0.95272315]\n",
      " [0.95718918 0.95541107 0.95670006 0.95486128 0.9540662  0.95183193\n",
      "  0.95354343 0.95477248 0.9521138  0.95222806 0.95315988 0.95405873\n",
      "  0.95676627 0.9498713  0.95593984 0.9519452  0.95147415 0.9540247\n",
      "  0.95230949 0.95396364 0.95329968 1.00157477 0.95309899 0.95541079\n",
      "  0.95205324]\n",
      " [0.95724809 0.95627191 0.95731716 0.95539462 0.95462261 0.95280192\n",
      "  0.95435187 0.95596595 0.95282079 0.95200194 0.95381544 0.95478835\n",
      "  0.95667445 0.95073746 0.95602403 0.95217014 0.95326809 0.95404812\n",
      "  0.95290146 0.95414394 0.95408139 0.95309899 1.00446476 0.95648402\n",
      "  0.95224079]\n",
      " [0.95973837 0.95771508 0.95915712 0.95619884 0.95669073 0.95487176\n",
      "  0.9565152  0.95761077 0.95506412 0.95409278 0.95617043 0.95710377\n",
      "  0.9589803  0.95266081 0.95740887 0.95459855 0.95534808 0.95684834\n",
      "  0.95437021 0.95632342 0.95669999 0.95541079 0.95648402 1.00825235\n",
      "  0.95480569]\n",
      " [0.95664963 0.95480768 0.95618108 0.9541999  0.95323949 0.951413\n",
      "  0.95312493 0.95402899 0.95149696 0.95111365 0.9515164  0.95294291\n",
      "  0.95490141 0.94885831 0.95464955 0.95075115 0.95156436 0.95255361\n",
      "  0.95103608 0.95257893 0.95272315 0.95205324 0.95224079 0.95480569\n",
      "  1.00059772]]\n"
     ]
    }
   ],
   "source": [
    "trace2 = sampler.flatten(burn=int(nsteps/2), thin=1)\n",
    "print(np.cov(trace2,rowvar=False))"
   ]
  },
  {
   "cell_type": "code",
   "execution_count": 14,
   "metadata": {},
   "outputs": [
    {
     "data": {
      "text/plain": [
       "array([-0.01000983, -0.00812684, -0.00745228, -0.00410239, -0.00552772,\n",
       "       -0.00196991, -0.00482344, -0.00471472, -0.00562128, -0.00711022,\n",
       "       -0.00592614, -0.00799017, -0.0074381 , -0.00862031, -0.00568476,\n",
       "       -0.01031143, -0.00401611, -0.00249688, -0.01124868, -0.00730632,\n",
       "       -0.00721335, -0.00897615, -0.00763424, -0.00612576, -0.00386143])"
      ]
     },
     "execution_count": 14,
     "metadata": {},
     "output_type": "execute_result"
    }
   ],
   "source": [
    "np.mean(trace2,axis=0)"
   ]
  },
  {
   "cell_type": "code",
   "execution_count": null,
   "metadata": {},
   "outputs": [],
   "source": []
  }
 ],
 "metadata": {
  "kernelspec": {
   "display_name": "Python 3",
   "language": "python",
   "name": "python3"
  },
  "language_info": {
   "codemirror_mode": {
    "name": "ipython",
    "version": 3
   },
   "file_extension": ".py",
   "mimetype": "text/x-python",
   "name": "python",
   "nbconvert_exporter": "python",
   "pygments_lexer": "ipython3",
   "version": "3.7.5"
  },
  "toc": {
   "base_numbering": 1,
   "nav_menu": {},
   "number_sections": true,
   "sideBar": true,
   "skip_h1_title": false,
   "title_cell": "Table of Contents",
   "title_sidebar": "Contents",
   "toc_cell": false,
   "toc_position": {},
   "toc_section_display": true,
   "toc_window_display": false
  }
 },
 "nbformat": 4,
 "nbformat_minor": 2
}
