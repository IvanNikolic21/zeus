{
 "cells": [
  {
   "cell_type": "code",
   "execution_count": 1,
   "metadata": {},
   "outputs": [
    {
     "name": "stdout",
     "output_type": "stream",
     "text": [
      "zeus version: 0.9.3\n"
     ]
    }
   ],
   "source": [
    "import sys\n",
    "sys.path.append(\"./../\")\n",
    "import matplotlib.pyplot as plt\n",
    "from sklearn.datasets import make_spd_matrix\n",
    "from getdist import plots, MCSamples\n",
    "import numpy as np\n",
    "import zeus\n",
    "print('zeus version:', zeus.__version__)"
   ]
  },
  {
   "cell_type": "code",
   "execution_count": 2,
   "metadata": {},
   "outputs": [
    {
     "data": {
      "image/png": "[encoded data removed]",
      "text/plain": [
       "<Figure size 432x288 with 2 Axes>"
      ]
     },
     "metadata": {
      "needs_background": "light"
     },
     "output_type": "display_data"
    }
   ],
   "source": [
    "ndim = 2\n",
    "nwalkers = 2*ndim\n",
    "nsteps= 100000\n",
    "\n",
    "#C = make_spd_matrix(ndim)\n",
    "C = np.identity(ndim)\n",
    "plt.imshow(C)\n",
    "plt.colorbar()\n",
    "\n",
    "icov = np.linalg.inv(C)\n",
    "\n",
    "#mu = np.random.rand(ndim) * 100.0\n",
    "mu  = np.zeros(ndim)\n",
    "\n",
    "def logp(x, mu, icov):\n",
    "    return -0.5 * np.dot(np.dot((x-mu).T,icov),(x-mu))\n",
    "\n",
    "#start = np.random.rand(ndim)\n",
    "start = mu + 3.0 * np.random.randn(nwalkers,ndim)"
   ]
  },
  {
   "cell_type": "code",
   "execution_count": 3,
   "metadata": {},
   "outputs": [
    {
     "name": "stderr",
     "output_type": "stream",
     "text": [
      "Starting sampling...\n",
      "100%|██████████| 100000/100000 [00:19<00:00, 5187.96it/s]\n",
      "Sampling Complete!\n"
     ]
    }
   ],
   "source": [
    "sampler = zeus.sampler(logp, nwalkers, ndim, args=[mu, icov])\n",
    "sampler.run(start, nsteps)"
   ]
  },
  {
   "cell_type": "code",
   "execution_count": null,
   "metadata": {
    "scrolled": false
   },
   "outputs": [],
   "source": [
    "plt.figure(figsize=(16,1.5*ndim))\n",
    "for n in range(ndim):\n",
    "    plt.subplot2grid((ndim, 1), (n, 0))\n",
    "    plt.plot(np.arange(nsteps),sampler.chain[:,:,n].T,alpha=0.5)\n",
    "    plt.axhline(y=mu[n])\n",
    "plt.tight_layout()\n",
    "plt.show()\n",
    "\n",
    "trace = sampler.flatten(burn=int(nsteps/2))\n",
    "plt.scatter(trace[:,0],trace[:,1], alpha=0.2)\n",
    "plt.show()\n",
    "\n",
    "print('MCMC mean:', np.mean(trace, axis=0))\n",
    "print('TRUE mean:', mu)\n",
    "print('MCMC std:', np.std(trace, axis=0))\n",
    "print('TRUE std:', np.sqrt(np.diag(C)))\n",
    "\n",
    "sampler.summary"
   ]
  },
  {
   "cell_type": "code",
   "execution_count": null,
   "metadata": {},
   "outputs": [],
   "source": [
    "print('Percentiles')\n",
    "print (np.percentile(trace, [16, 50, 84], axis=0))\n",
    "print('Mean')\n",
    "print (np.mean(trace, axis=0))\n",
    "print('Standard Deviation')\n",
    "print (np.std(trace, axis=0))"
   ]
  },
  {
   "cell_type": "code",
   "execution_count": null,
   "metadata": {},
   "outputs": [],
   "source": [
    "sample = MCSamples(samples=trace)\n",
    "g = plots.getSubplotPlotter(width_inch=14)\n",
    "g.triangle_plot([sample], filled=True, shaded=False)"
   ]
  },
  {
   "cell_type": "code",
   "execution_count": null,
   "metadata": {},
   "outputs": [],
   "source": []
  }
 ],
 "metadata": {
  "kernelspec": {
   "display_name": "Python 3",
   "language": "python",
   "name": "python3"
  },
  "language_info": {
   "codemirror_mode": {
    "name": "ipython",
    "version": 3
   },
   "file_extension": ".py",
   "mimetype": "text/x-python",
   "name": "python",
   "nbconvert_exporter": "python",
   "pygments_lexer": "ipython3",
   "version": "3.7.5"
  },
  "toc": {
   "base_numbering": 1,
   "nav_menu": {},
   "number_sections": true,
   "sideBar": true,
   "skip_h1_title": false,
   "title_cell": "Table of Contents",
   "title_sidebar": "Contents",
   "toc_cell": false,
   "toc_position": {},
   "toc_section_display": true,
   "toc_window_display": false
  }
 },
 "nbformat": 4,
 "nbformat_minor": 2
}
