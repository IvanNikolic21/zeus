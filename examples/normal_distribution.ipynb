{
 "cells": [
  {
   "cell_type": "code",
   "execution_count": 1,
   "metadata": {},
   "outputs": [],
   "source": [
    "import sys\n",
    "sys.path.append(\"./../\")\n",
    "import matplotlib.pyplot as plt\n",
    "import numpy as np\n",
    "import zeus"
   ]
  },
  {
   "cell_type": "code",
   "execution_count": 19,
   "metadata": {},
   "outputs": [
    {
     "data": {
      "image/png": "[encoded data removed]",
      "text/plain": [
       "<Figure size 432x288 with 2 Axes>"
      ]
     },
     "metadata": {
      "needs_background": "light"
     },
     "output_type": "display_data"
    }
   ],
   "source": [
    "ndim = 100\n",
    "nwalkers = 2*ndim\n",
    "nsteps= 10000\n",
    "\n",
    "a = 5.0\n",
    "A = np.array([np.random.randn(ndim) + np.random.randn(1)*a for i in range(ndim)])\n",
    "A = np.dot(A,np.transpose(A))\n",
    "D_half = np.diag(np.diag(A)**(-0.5))\n",
    "C = np.dot(np.dot(D_half,A),D_half)\n",
    "\n",
    "for i in range(ndim):\n",
    "    C[i,i] = 1.0/np.random.rand()\n",
    "\n",
    "icov = np.linalg.inv(C)\n",
    "plt.imshow(C)\n",
    "plt.colorbar()\n",
    "\n",
    "mu = np.random.rand(ndim) * 100.0\n",
    "\n",
    "def logp(x):\n",
    "    return -0.5 * np.dot(np.dot((x-mu).T,icov),(x-mu))\n",
    "\n",
    "p0 = np.random.rand(nwalkers,ndim)\n",
    "start = p0 + 1e-4*np.random.randn(nwalkers, ndim)"
   ]
  },
  {
   "cell_type": "code",
   "execution_count": 20,
   "metadata": {},
   "outputs": [
    {
     "name": "stderr",
     "output_type": "stream",
     "text": [
      "100%|██████████| 10000/10000 [02:38<00:00, 63.06it/s]\n"
     ]
    }
   ],
   "source": [
    "sampler = zeus.sampler(logp, nwalkers, ndim)\n",
    "samples = sampler.run(start, nsteps)"
   ]
  },
  {
   "cell_type": "code",
   "execution_count": null,
   "metadata": {
    "scrolled": false
   },
   "outputs": [],
   "source": [
    "plt.figure(figsize=(16,1.5*ndim))\n",
    "for n in range(ndim):\n",
    "    plt.subplot2grid((ndim, 1), (n, 0))\n",
    "    plt.plot(np.arange(np.shape(samples)[1]),samples[:,:,n].T,alpha=0.5)\n",
    "    plt.axhline(y=mu[n])\n",
    "plt.tight_layout()\n",
    "plt.show()\n",
    "\n",
    "chain = samples[:,int(nsteps/2):,:].reshape(-1,ndim)\n",
    "plt.scatter(chain[:,0],chain[:,1], alpha=0.2)\n",
    "plt.show()\n",
    "print('mean:', np.mean(chain, axis=0))\n",
    "print('std:', np.std(chain, axis=0))\n",
    "\n",
    "act_mean_minas = 0.0\n",
    "for i in range(ndim):\n",
    "    act_mean_minas += zeus.autocorrtime(chain[:,i]) \n",
    "act_mean_minas /= ndim\n",
    "print('act:', act_mean_minas)\n",
    "print('ESS:', nwalkers * nsteps / act_mean_minas)\n",
    "print('ESS/LE:', (nwalkers * nsteps / act_mean_minas)/sampler.nlogp)"
   ]
  },
  {
   "cell_type": "code",
   "execution_count": null,
   "metadata": {},
   "outputs": [],
   "source": []
  }
 ],
 "metadata": {
  "kernelspec": {
   "display_name": "Python 3",
   "language": "python",
   "name": "python3"
  },
  "language_info": {
   "codemirror_mode": {
    "name": "ipython",
    "version": 3
   },
   "file_extension": ".py",
   "mimetype": "text/x-python",
   "name": "python",
   "nbconvert_exporter": "python",
   "pygments_lexer": "ipython3",
   "version": "3.7.3"
  },
  "toc": {
   "base_numbering": 1,
   "nav_menu": {},
   "number_sections": true,
   "sideBar": true,
   "skip_h1_title": false,
   "title_cell": "Table of Contents",
   "title_sidebar": "Contents",
   "toc_cell": false,
   "toc_position": {},
   "toc_section_display": true,
   "toc_window_display": false
  }
 },
 "nbformat": 4,
 "nbformat_minor": 2
}
